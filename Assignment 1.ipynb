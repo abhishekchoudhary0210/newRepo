{
 "cells": [
  {
   "cell_type": "markdown",
   "id": "232da0ad-3c3b-4381-9acc-f2c0b1efb183",
   "metadata": {},
   "source": [
    "## 1: Count Vowels in a String"
   ]
  },
  {
   "cell_type": "code",
   "execution_count": 16,
   "id": "2b2790fd-ce09-4349-887b-9ae3ff9136bc",
   "metadata": {},
   "outputs": [
    {
     "name": "stdout",
     "output_type": "stream",
     "text": [
      "Enter the string: aaiieeoo\n"
     ]
    },
    {
     "name": "stdout",
     "output_type": "stream",
     "text": [
      "The number of vowels in the string are : 8\n"
     ]
    }
   ],
   "source": [
    "s = input(\"Enter the string:\").lower()\n",
    "vowels = \"aeiou\"\n",
    "count = 0\n",
    "for  char in s:\n",
    "    if char in vowels:\n",
    "      count += 1\n",
    "print(f\"The number of vowels in the string are : {count}\")"
   ]
  },
  {
   "cell_type": "markdown",
   "id": "ddb631a3-c64f-46e1-b921-c848763eebe6",
   "metadata": {},
   "source": [
    "## 2: Tuple Operations"
   ]
  },
  {
   "cell_type": "code",
   "execution_count": 35,
   "id": "225f1649-8d1e-4873-b655-636cf740acea",
   "metadata": {},
   "outputs": [
    {
     "name": "stdout",
     "output_type": "stream",
     "text": [
      "This is the Original tuple:(1, 2, 3, 3, 4, 4, 5, 6, 6)\n",
      "This is the tupple of unique items:(1, 2, 3, 4, 5, 6)\n"
     ]
    }
   ],
   "source": [
    "tuple1 = (1,2,3,3,4,4,5,6,6)\n",
    "tuple2 = tuple(set(tuple1)) # first coverting tuple into set to fetch unique items and then set to tuple .\n",
    "print(f\"This is the Original tuple:{tuple1}\")\n",
    "print(f\"This is the tupple of unique items:{tuple2}\")"
   ]
  },
  {
   "cell_type": "markdown",
   "id": "18fa8067-eed8-4b36-98ca-373317b77d91",
   "metadata": {},
   "source": [
    "## 3: Check if a String is a Palindrome"
   ]
  },
  {
   "cell_type": "code",
   "execution_count": 72,
   "id": "97d9b1fb-870a-406e-80e9-4ebcc0280637",
   "metadata": {},
   "outputs": [
    {
     "name": "stdout",
     "output_type": "stream",
     "text": [
      "----------------------------------------\n"
     ]
    },
    {
     "name": "stdout",
     "output_type": "stream",
     "text": [
      "Enter the string: heeh\n"
     ]
    },
    {
     "name": "stdout",
     "output_type": "stream",
     "text": [
      "The heeh string is a palindrome\n",
      "----------------------------------------\n"
     ]
    }
   ],
   "source": [
    "print(\"-\"*40)\n",
    "s = input(\"Enter the string:\")\n",
    "s1 = \"\"\n",
    "\n",
    "for char in s[::-1]:\n",
    "    s1 += char\n",
    "if s == s1 :\n",
    "    print(f\"The {s} string is a palindrome\")\n",
    "else:\n",
    "    print(f\"The {s} string is not a palindrome\")\n",
    "print(\"-\"*40)    \n",
    "    "
   ]
  },
  {
   "cell_type": "markdown",
   "id": "d87486b3-d8c8-430e-b557-bcab83e49b89",
   "metadata": {},
   "source": [
    "#### 4:Create a list of integers. Modify the list to contain only even numbers multiplied by 2."
   ]
  },
  {
   "cell_type": "code",
   "execution_count": 107,
   "id": "bddda2ec-cd80-4249-a93c-b19ef999c4d5",
   "metadata": {},
   "outputs": [
    {
     "name": "stdout",
     "output_type": "stream",
     "text": [
      "Enter numbers separated by space : 1 2 3 4 5\n"
     ]
    },
    {
     "name": "stdout",
     "output_type": "stream",
     "text": [
      "This is the original list : [1, 2, 3, 4, 5]\n",
      "This is the required list : [4, 8]\n"
     ]
    }
   ],
   "source": [
    "l = list(map(int,input(\"Enter numbers separated by space :\").split()))\n",
    "print(f\"This is the original list : {l}\")\n",
    "l1 = [num*2 for num in l if num%2==0] # List comprhension\n",
    "print(f\"This is the required list : {l1}\")"
   ]
  },
  {
   "cell_type": "markdown",
   "id": "b1fc7195-7f78-4507-a532-c20a6eca6da2",
   "metadata": {},
   "source": [
    "### 5: Count the frequency of each character and display the result as a dictionary."
   ]
  },
  {
   "cell_type": "code",
   "execution_count": 155,
   "id": "495890c6-a766-4c5e-a61e-bf6eed44b8a4",
   "metadata": {},
   "outputs": [
    {
     "name": "stdout",
     "output_type": "stream",
     "text": [
      "Character frquency dictionary is : {'h': 1, 'e': 1, 'l': 3, 'o': 2, ' ': 1, 'w': 1, 'r': 1, 'd': 1}\n"
     ]
    }
   ],
   "source": [
    "s = \"hello world\" \n",
    "char_frequency = {}\n",
    "\n",
    "for char in s:\n",
    "    if char in char_frequency:\n",
    "        char_frequency[char]+= 1\n",
    "    else:\n",
    "        char_frequency[char] = 1\n",
    "print(f\"Character frquency dictionary is : {char_frequency}\")"
   ]
  },
  {
   "cell_type": "markdown",
   "id": "50168f1e-b793-4ba0-bd47-d0d18008ff14",
   "metadata": {},
   "source": [
    "## 6: Find the Largest Element in a List"
   ]
  },
  {
   "cell_type": "code",
   "execution_count": 131,
   "id": "da52918d-59f3-4f99-98cc-33b308a4eeb7",
   "metadata": {},
   "outputs": [
    {
     "name": "stdout",
     "output_type": "stream",
     "text": [
      "Enter the list of numbers : 1 2\n"
     ]
    },
    {
     "name": "stdout",
     "output_type": "stream",
     "text": [
      " Maximum number in the list :2\n"
     ]
    }
   ],
   "source": [
    "L = list(map(int,input(\"Enter the list of numbers :\").split()))\n",
    "max = L[0]\n",
    "for i in L:\n",
    "    if i > max:\n",
    "        max = i\n",
    "print(f\" Maximum number in the list :{max}\")"
   ]
  },
  {
   "cell_type": "markdown",
   "id": "e5275fca-2930-421a-b139-42fff7fc7b4b",
   "metadata": {},
   "source": [
    "## 7.Check if it is a \"Perfect Number\""
   ]
  },
  {
   "cell_type": "code",
   "execution_count": 137,
   "id": "269a704e-03ac-478e-a7d0-c232a68b1976",
   "metadata": {},
   "outputs": [
    {
     "name": "stdout",
     "output_type": "stream",
     "text": [
      "Enter the number :  28\n"
     ]
    },
    {
     "name": "stdout",
     "output_type": "stream",
     "text": [
      "28 is a perfect number\n"
     ]
    }
   ],
   "source": [
    "n = int(input(\"Enter the number : \"))\n",
    "sum = 0\n",
    "for i in range(1,n):\n",
    "    if n % i == 0:\n",
    "        sum += i\n",
    "if sum == n:\n",
    "    print(f\"{n} is a perfect number\")\n",
    "else:\n",
    "    print(f\"{n} is a not a perfect number\") "
   ]
  },
  {
   "cell_type": "markdown",
   "id": "2fb17bab-fa5b-4d75-a349-cf4bf356a86e",
   "metadata": {},
   "source": [
    "## 8.Rotate the list n times to the right and display the result."
   ]
  },
  {
   "cell_type": "code",
   "execution_count": 190,
   "id": "6ca3a35d-f899-4d35-a201-20c863b9aa59",
   "metadata": {},
   "outputs": [
    {
     "name": "stdout",
     "output_type": "stream",
     "text": [
      "[5, 1, 2, 3, 4]\n"
     ]
    }
   ],
   "source": [
    "lst = [1, 2, 3, 4, 5]\n",
    "n = 6\n",
    "list = []\n",
    "for num in lst[len(lst)-n:len(lst)+1]:\n",
    "    list.append(num)\n",
    "# print(list)\n",
    "for i in lst[len(lst)-n:len(lst)+1]:\n",
    "    lst.pop()\n",
    "# print(lst)\n",
    "print(list+lst)\n"
   ]
  },
  {
   "cell_type": "markdown",
   "id": "adec54f7-e4a3-4296-8179-84710ca19db3",
   "metadata": {},
   "source": [
    "## 9.Print the integer that occurs the maximum number of times."
   ]
  },
  {
   "cell_type": "code",
   "execution_count": 1,
   "id": "8b3d249c-d4f4-4f36-9589-07c0e52204bb",
   "metadata": {},
   "outputs": [
    {
     "name": "stdout",
     "output_type": "stream",
     "text": [
      "Enter the size of the array: 4\n",
      "Enter the space separated numbers: 1 2 1 3\n"
     ]
    },
    {
     "name": "stdout",
     "output_type": "stream",
     "text": [
      "The most frequent number of the array is: 1\n"
     ]
    }
   ],
   "source": [
    "N = int(input(\"Enter the size of the array:\"))\n",
    "arr = list(map(int, input(\"Enter the space separated numbers:\").split()))\n",
    "\n",
    "count = 0\n",
    "temp = 0\n",
    "index = 0\n",
    "\n",
    "for i in range(0, len(arr)):\n",
    "    temp = arr.count(arr[i])\n",
    "    if temp > count:\n",
    "        count = temp\n",
    "        index = i\n",
    "\n",
    "mostFrequentNumber = arr[index]\n",
    "print(f\"The most frequent number of the array is: {mostFrequentNumber}\")\n",
    "\n"
   ]
  },
  {
   "cell_type": "markdown",
   "id": "926a33f2-6f78-4be6-a358-236a6205a944",
   "metadata": {},
   "source": [
    "## 10 : Group Anagrams"
   ]
  },
  {
   "cell_type": "code",
   "execution_count": 197,
   "id": "66691a8e-789d-4130-b12d-2f189fd39d1f",
   "metadata": {},
   "outputs": [
    {
     "name": "stdout",
     "output_type": "stream",
     "text": [
      "The Anagrams dictionay is : {'aet': ['eat', 'tea', 'ate'], 'ant': ['tan', 'nat'], 'abt': ['bat']}\n"
     ]
    }
   ],
   "source": [
    "words = [\"eat\", \"tea\", \"tan\", \"ate\", \"nat\", \"bat\"]\n",
    "anagrams_dict = {}\n",
    "\n",
    "for word in words:\n",
    "    key = \"\".join(sorted(word))\n",
    "    if key not in anagrams_dict:\n",
    "        anagrams_dict[key] = [word]\n",
    "    else:\n",
    "        anagrams_dict[key].append(word)\n",
    "print(f\"The Anagrams dictionay is : {anagrams_dict}\")\n"
   ]
  },
  {
   "cell_type": "code",
   "execution_count": null,
   "id": "c9568164-ab97-4b84-9770-e6c9457443f7",
   "metadata": {},
   "outputs": [],
   "source": []
  }
 ],
 "metadata": {
  "kernelspec": {
   "display_name": "Python 3 (ipykernel)",
   "language": "python",
   "name": "python3"
  },
  "language_info": {
   "codemirror_mode": {
    "name": "ipython",
    "version": 3
   },
   "file_extension": ".py",
   "mimetype": "text/x-python",
   "name": "python",
   "nbconvert_exporter": "python",
   "pygments_lexer": "ipython3",
   "version": "3.12.7"
  }
 },
 "nbformat": 4,
 "nbformat_minor": 5
}
